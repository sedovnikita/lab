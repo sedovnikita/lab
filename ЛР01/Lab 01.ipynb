{
 "cells": [
  {
   "cell_type": "code",
   "execution_count": 4,
   "id": "f373c3bb",
   "metadata": {},
   "outputs": [],
   "source": [
    "def cesar(in_text):\n",
    "    letters = \"ABCDEFGHIJKLMNOPQRSTUVWXYZABCDEFGHIJKLMNOPQRSTUVWXYZ\"\n",
    "    step = 7\n",
    "    result = \"\"\n",
    "    for i in in_text:\n",
    "        ind = letters.find(i)\n",
    "        newind = ind + step\n",
    "        if i in letters:\n",
    "            result += letters[newind]\n",
    "        else:\n",
    "            result += i\n",
    "    return result\n",
    "\n",
    "def cesar2(in_text):\n",
    "    letters = \"ABCDEFGHIJKLMNOPQRSTUVWXYZABCDEFGHIJKLMNOPQRSTUVWXYZ\"\n",
    "    step = 7\n",
    "    result = \"\"\n",
    "    for i in in_text:\n",
    "        ind = letters.find(i)\n",
    "        newind = ind - step\n",
    "        if i in letters:\n",
    "            result += letters[newind]\n",
    "        else:\n",
    "            result += i\n",
    "    return result"
   ]
  },
  {
   "cell_type": "code",
   "execution_count": 5,
   "id": "b6592858",
   "metadata": {},
   "outputs": [
    {
     "name": "stdout",
     "output_type": "stream",
     "text": [
      "TEST - ALZA - TEST\n"
     ]
    }
   ],
   "source": [
    "inp = \"TEST\"\n",
    "print(f'{inp} - {cesar(inp)} - {cesar2(cesar(inp))}')"
   ]
  },
  {
   "cell_type": "code",
   "execution_count": 6,
   "id": "8ae8123b",
   "metadata": {},
   "outputs": [],
   "source": [
    "def atbash(in_text):\n",
    "    letters = \"ABCDEFGHIJKLMNOPQRSTUVWXYZ\"\n",
    "    letters_r = [i for i in letters]\n",
    "    letters_r.reverse()\n",
    "    result = \"\"\n",
    "    for i in in_text:\n",
    "        for j,l in enumerate(letters):\n",
    "            if i == l:\n",
    "                result += letters_r[j]\n",
    "    return result\n",
    "\n",
    "def atbash2(in_text):\n",
    "    letters = \"ABCDEFGHIJKLMNOPQRSTUVWXYZ\"\n",
    "    letters_r = [i for i in letters]\n",
    "    letters_r.reverse()\n",
    "    result = \"\"\n",
    "    for i in in_text:\n",
    "        for j,l in enumerate(letters):\n",
    "            if i == l:\n",
    "                result += letters_r[j]\n",
    "    return result"
   ]
  },
  {
   "cell_type": "code",
   "execution_count": 7,
   "id": "ff292b7c",
   "metadata": {},
   "outputs": [
    {
     "name": "stdout",
     "output_type": "stream",
     "text": [
      "TEST - GVHG - TEST\n"
     ]
    }
   ],
   "source": [
    "inp = \"TEST\"\n",
    "print(f'{inp} - {atbash(inp)} - {atbash2(atbash(inp))}')"
   ]
  },
  {
   "cell_type": "code",
   "execution_count": null,
   "id": "1ff295f7",
   "metadata": {},
   "outputs": [],
   "source": []
  }
 ],
 "metadata": {
  "kernelspec": {
   "display_name": "Python 3 (ipykernel)",
   "language": "python",
   "name": "python3"
  },
  "language_info": {
   "codemirror_mode": {
    "name": "ipython",
    "version": 3
   },
   "file_extension": ".py",
   "mimetype": "text/x-python",
   "name": "python",
   "nbconvert_exporter": "python",
   "pygments_lexer": "ipython3",
   "version": "3.9.9"
  }
 },
 "nbformat": 4,
 "nbformat_minor": 5
}
